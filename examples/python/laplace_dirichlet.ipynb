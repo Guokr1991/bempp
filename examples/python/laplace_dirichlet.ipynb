{
 "metadata": {
  "name": "",
  "signature": "sha256:5964c8e0f51b64d90f72da6e2b888fc2459f5fd82fe05f8d2453adfa97c19cbc"
 },
 "nbformat": 3,
 "nbformat_minor": 0,
 "worksheets": [
  {
   "cells": [
    {
     "cell_type": "code",
     "collapsed": false,
     "input": [
      "from bempp.grid import grid_from_sphere\n",
      "from bempp.operators.boundary.laplace import single_layer,double_layer\n",
      "from bempp.operators.boundary.sparse import identity_operator\n",
      "from bempp.space import initialize_space\n",
      "from bempp.assembly import GridFunction\n",
      "\n",
      "import numpy as np"
     ],
     "language": "python",
     "metadata": {},
     "outputs": [],
     "prompt_number": 1
    },
    {
     "cell_type": "code",
     "collapsed": false,
     "input": [
      "def dirichlet_data(x,n,result):\n",
      "    r = np.sqrt(x[0]**2 + x[1]**2 + x[2]**2)\n",
      "    result[0] = 2 * x[0] * x[2] / r**5 - x[1] / r**3"
     ],
     "language": "python",
     "metadata": {},
     "outputs": [],
     "prompt_number": 2
    },
    {
     "cell_type": "code",
     "collapsed": false,
     "input": [
      "def neumann_data(x,n,result):\n",
      "    r = np.sqrt(x[0]**2 + x[1]**2 + x[2]**2)\n",
      "    result[0] = -6 * x[0] * x[2] / r**6 + 2 * x[1] / r**4"
     ],
     "language": "python",
     "metadata": {},
     "outputs": [],
     "prompt_number": 3
    },
    {
     "cell_type": "code",
     "collapsed": false,
     "input": [
      "grid = grid_from_sphere(4)"
     ],
     "language": "python",
     "metadata": {},
     "outputs": [],
     "prompt_number": 4
    },
    {
     "cell_type": "code",
     "collapsed": false,
     "input": [
      "piecewise_const_space = initialize_space(grid,\"DP\",0)\n",
      "piecewise_lin_space = initialize_space(grid,\"P\",1)"
     ],
     "language": "python",
     "metadata": {},
     "outputs": [],
     "prompt_number": 5
    },
    {
     "cell_type": "code",
     "collapsed": false,
     "input": [
      "id = identity_operator(piecewise_lin_space, piecewise_lin_space, piecewise_const_space)\n",
      "dlp = double_layer(piecewise_lin_space, piecewise_lin_space, piecewise_const_space)\n",
      "slp = single_layer(piecewise_const_space, piecewise_lin_space, piecewise_const_space)"
     ],
     "language": "python",
     "metadata": {},
     "outputs": [],
     "prompt_number": 6
    },
    {
     "cell_type": "code",
     "collapsed": false,
     "input": [
      "grid_fun = GridFunction(piecewise_lin_space, dual_space=piecewise_const_space, fun=dirichlet_data)\n",
      "exact_sol = GridFunction(piecewise_const_space, dual_space=piecewise_const_space, fun=neumann_data)"
     ],
     "language": "python",
     "metadata": {},
     "outputs": [],
     "prompt_number": 7
    },
    {
     "cell_type": "code",
     "collapsed": false,
     "input": [
      "rhs = (-.5*id+dlp)*grid_fun"
     ],
     "language": "python",
     "metadata": {},
     "outputs": [],
     "prompt_number": 8
    },
    {
     "cell_type": "code",
     "collapsed": false,
     "input": [
      "from bempp.linalg.iterative_solvers import cg\n",
      "rel_error=[]\n",
      "sol_l2_norm=exact_sol.l2_norm\n",
      "sol,info = cg(slp,rhs,tol=1E-3,callback=lambda e: rel_error.append((GridFunction(piecewise_const_space,\n",
      "                                                                                 dual_space=piecewise_lin_space,\n",
      "                                                                                 coefficients=e.ravel())-\n",
      "                                                                    exact_sol).l2_norm/sol_l2_norm))"
     ],
     "language": "python",
     "metadata": {},
     "outputs": [],
     "prompt_number": 9
    },
    {
     "cell_type": "code",
     "collapsed": false,
     "input": [
      "%matplotlib inline\n",
      "import matplotlib\n",
      "from matplotlib import pyplot as plt\n",
      "matplotlib.rcParams['savefig.dpi'] = 2 * matplotlib.rcParams['savefig.dpi']\n",
      "plt.semilogy(rel_error,'r--')\n",
      "plt.title(\"L2 Convergence of solution\")"
     ],
     "language": "python",
     "metadata": {},
     "outputs": [
      {
       "metadata": {},
       "output_type": "pyout",
       "prompt_number": 10,
       "text": [
        "<matplotlib.text.Text at 0x10f5cac88>"
       ]
      },
      {
       "metadata": {},
       "output_type": "display_data",
       "png": "[encoded data removed]",
       "text": [
        "<matplotlib.figure.Figure at 0x10b9d4ac8>"
       ]
      }
     ],
     "prompt_number": 10
    },
    {
     "cell_type": "code",
     "collapsed": false,
     "input": [
      "error_fun=sol-exact_sol\n",
      "print(\"The solution error is: {0} \".format(error_fun.l2_norm/sol.l2_norm))"
     ],
     "language": "python",
     "metadata": {},
     "outputs": [
      {
       "output_type": "stream",
       "stream": "stdout",
       "text": [
        "The solution error is: 0.035053665108335505 \n"
       ]
      }
     ],
     "prompt_number": 11
    }
   ],
   "metadata": {}
  }
 ]
}