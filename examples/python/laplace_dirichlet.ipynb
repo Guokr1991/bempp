{
 "metadata": {
  "name": "",
  "signature": "sha256:774f956cd11cebd7448c4b3aea6c4e3f87214ac31685ee09d5a00125cdcc36e9"
 },
 "nbformat": 3,
 "nbformat_minor": 0,
 "worksheets": [
  {
   "cells": [
    {
     "cell_type": "heading",
     "level": 1,
     "metadata": {},
     "source": [
      "Solving a Laplace problem with Dirichlet boundary conditions"
     ]
    },
    {
     "cell_type": "markdown",
     "metadata": {},
     "source": [
      "In this tutorial we will solve a simple Laplace problem inside the unit sphere $\\Omega$ with Dirichlet boundary conditions. The PDE is given by\n",
      "\n",
      "$$\n",
      "\\Delta u = 0\n",
      "$$\n",
      "\n",
      "in $\\Omega$ with boundary conditions \n",
      "\n",
      "$$\n",
      "u = g\n",
      "$$\n",
      "on the boundary $\\Gamma$ of $\\Omega$. As boundary data we chose the boundary data of a harmonic function $\\hat{u}$ that already satisfies $\\Delta\\hat{u}=0$ in order to compare the numerical solution with the analytical solution later on. In this example we choose \n",
      "\n",
      "$$\n",
      "\\hat{u}(x,y,z)=\\frac{1}{(x^2+y^2)^{1.5}}\\left(2\\frac{xz}{x^2+y^2}-y\\right)\n",
      "$$"
     ]
    },
    {
     "cell_type": "code",
     "collapsed": false,
     "input": [
      "from bempp import grid_from_sphere, function_space, GridFunction, export\n",
      "from bempp.operators.boundary.laplace import single_layer,double_layer\n",
      "from bempp.operators.boundary.sparse import identity_operator\n",
      "\n",
      "import numpy as np"
     ],
     "language": "python",
     "metadata": {},
     "outputs": [],
     "prompt_number": 53
    },
    {
     "cell_type": "code",
     "collapsed": false,
     "input": [
      "def dirichlet_data(x,n,result):\n",
      "    r = np.sqrt(x[0]**2 + x[1]**2 + x[2]**2)\n",
      "    result[0] = 2 * x[0] * x[2] / r**5 - x[1] / r**3"
     ],
     "language": "python",
     "metadata": {},
     "outputs": [],
     "prompt_number": 54
    },
    {
     "cell_type": "code",
     "collapsed": false,
     "input": [
      "def neumann_data(x,n,result):\n",
      "    r = np.sqrt(x[0]**2 + x[1]**2 + x[2]**2)\n",
      "    result[0] = -6 * x[0] * x[2] / r**6 + 2 * x[1] / r**4"
     ],
     "language": "python",
     "metadata": {},
     "outputs": [],
     "prompt_number": 55
    },
    {
     "cell_type": "code",
     "collapsed": false,
     "input": [
      "grid = grid_from_sphere(5)"
     ],
     "language": "python",
     "metadata": {},
     "outputs": [],
     "prompt_number": 56
    },
    {
     "cell_type": "code",
     "collapsed": false,
     "input": [
      "piecewise_const_space = function_space(grid,\"DP\",0)\n",
      "piecewise_lin_space = function_space(grid,\"P\",1)"
     ],
     "language": "python",
     "metadata": {},
     "outputs": [],
     "prompt_number": 57
    },
    {
     "cell_type": "code",
     "collapsed": false,
     "input": [
      "id = identity_operator(piecewise_lin_space, piecewise_lin_space, piecewise_const_space)\n",
      "dlp = double_layer(piecewise_lin_space, piecewise_lin_space, piecewise_const_space)\n",
      "slp = single_layer(piecewise_const_space, piecewise_lin_space, piecewise_const_space)"
     ],
     "language": "python",
     "metadata": {},
     "outputs": [],
     "prompt_number": 58
    },
    {
     "cell_type": "code",
     "collapsed": false,
     "input": [
      "grid_fun = GridFunction(piecewise_lin_space, dual_space=piecewise_const_space, fun=dirichlet_data)\n",
      "exact_sol = GridFunction(piecewise_const_space, dual_space=piecewise_const_space, fun=neumann_data)"
     ],
     "language": "python",
     "metadata": {},
     "outputs": [],
     "prompt_number": 61
    },
    {
     "cell_type": "code",
     "collapsed": false,
     "input": [
      "rhs = (-.5*id+dlp)*grid_fun"
     ],
     "language": "python",
     "metadata": {},
     "outputs": [],
     "prompt_number": 62
    },
    {
     "cell_type": "code",
     "collapsed": false,
     "input": [
      "from bempp.linalg.iterative_solvers import cg\n",
      "rel_error=[]\n",
      "sol_l2_norm=exact_sol.l2_norm\n",
      "sol,info = cg(slp,rhs,tol=1E-3,callback=lambda e: rel_error.append((GridFunction(piecewise_const_space,\n",
      "                                                                                 dual_space=piecewise_lin_space,\n",
      "                                                                                 coefficients=e.ravel())-\n",
      "                                                                    exact_sol).l2_norm/sol_l2_norm))"
     ],
     "language": "python",
     "metadata": {},
     "outputs": [],
     "prompt_number": 63
    },
    {
     "cell_type": "code",
     "collapsed": false,
     "input": [
      "%matplotlib inline\n",
      "import matplotlib\n",
      "from matplotlib import pyplot as plt\n",
      "matplotlib.rcParams['savefig.dpi'] = 2 * matplotlib.rcParams['savefig.dpi']\n",
      "plt.semilogy(rel_error,'r--')\n",
      "plt.title(\"L2 Convergence of CG to solution\")"
     ],
     "language": "python",
     "metadata": {},
     "outputs": [
      {
       "metadata": {},
       "output_type": "pyout",
       "prompt_number": 64,
       "text": [
        "<matplotlib.text.Text at 0x112e1e610>"
       ]
      },
      {
       "metadata": {},
       "output_type": "display_data",
       "png": "[encoded data removed]",
       "text": [
        "<matplotlib.figure.Figure at 0x112526450>"
       ]
      }
     ],
     "prompt_number": 64
    },
    {
     "cell_type": "code",
     "collapsed": false,
     "input": [
      "error_fun=sol-exact_sol\n",
      "print(\"The solution error is: {0} \".format(error_fun.l2_norm/sol.l2_norm))"
     ],
     "language": "python",
     "metadata": {},
     "outputs": [
      {
       "output_type": "stream",
       "stream": "stdout",
       "text": [
        "The solution error is: 0.0229994811372 \n"
       ]
      }
     ],
     "prompt_number": 65
    },
    {
     "cell_type": "code",
     "collapsed": false,
     "input": [
      "from bempp.file_interfaces import gmsh\n",
      "export(sol,'solution.msh',data_label='solution')"
     ],
     "language": "python",
     "metadata": {},
     "outputs": [],
     "prompt_number": 66
    },
    {
     "cell_type": "code",
     "collapsed": false,
     "input": [],
     "language": "python",
     "metadata": {},
     "outputs": []
    }
   ],
   "metadata": {}
  }
 ]
}