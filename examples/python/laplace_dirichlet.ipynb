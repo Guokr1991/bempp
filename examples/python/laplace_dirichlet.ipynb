{
 "metadata": {
  "name": "",
  "signature": "sha256:229b2e5c32f938b5550c26123bcff20f67dafde9c52bd5b1a0a2c78fad9cb3ed"
 },
 "nbformat": 3,
 "nbformat_minor": 0,
 "worksheets": [
  {
   "cells": [
    {
     "cell_type": "heading",
     "level": 1,
     "metadata": {},
     "source": [
      "Solving a Laplace problem with Dirichlet boundary conditions"
     ]
    },
    {
     "cell_type": "markdown",
     "metadata": {},
     "source": [
      "In this tutorial we will solve a simple Laplace problem inside the unit sphere $\\Omega$ with Dirichlet boundary conditions. The PDE is given by\n",
      "\n",
      "$$\n",
      "\\Delta u = 0\n",
      "$$\n",
      "\n",
      "in $\\Omega$ with boundary conditions \n",
      "\n",
      "$$\n",
      "u = g\n",
      "$$\n",
      "on the boundary $\\Gamma$ of $\\Omega$. As boundary data we chose the boundary data of a harmonic function $\\hat{u}$ that already satisfies $\\Delta\\hat{u}=0$ in order to compare the numerical solution with the analytical solution later on. In this example we choose \n",
      "\n",
      "$$\n",
      "\\hat{u}(x,y,z)=\\frac{1}{(x^2+y^2)^{1.5}}\\left(2\\frac{xz}{x^2+y^2}-y\\right)\n",
      "$$"
     ]
    },
    {
     "cell_type": "code",
     "collapsed": false,
     "input": [
      "from bempp import grid_from_sphere, function_space, GridFunction, export\n",
      "from bempp.operators.boundary.laplace import single_layer,double_layer\n",
      "from bempp.operators.boundary.sparse import identity_operator\n",
      "\n",
      "import numpy as np"
     ],
     "language": "python",
     "metadata": {},
     "outputs": [],
     "prompt_number": 1
    },
    {
     "cell_type": "code",
     "collapsed": false,
     "input": [
      "def dirichlet_data(x,n,domain_index,result):\n",
      "    r = np.sqrt(x[0]**2 + x[1]**2 + x[2]**2)\n",
      "    result[0] = 2 * x[0] * x[2] / r**5 - x[1] / r**3"
     ],
     "language": "python",
     "metadata": {},
     "outputs": [],
     "prompt_number": 2
    },
    {
     "cell_type": "code",
     "collapsed": false,
     "input": [
      "def neumann_data(x,n,domain_index,result):\n",
      "    r = np.sqrt(x[0]**2 + x[1]**2 + x[2]**2)\n",
      "    result[0] = -6 * x[0] * x[2] / r**6 + 2 * x[1] / r**4"
     ],
     "language": "python",
     "metadata": {},
     "outputs": [],
     "prompt_number": 3
    },
    {
     "cell_type": "code",
     "collapsed": false,
     "input": [
      "grid = grid_from_sphere(4)\n",
      "print(\"The grid has {0} elements\".format(grid.leaf_view.entity_count(0)))"
     ],
     "language": "python",
     "metadata": {},
     "outputs": [
      {
       "output_type": "stream",
       "stream": "stdout",
       "text": [
        "The grid has 2048 elements\n"
       ]
      }
     ],
     "prompt_number": 4
    },
    {
     "cell_type": "code",
     "collapsed": false,
     "input": [
      "piecewise_const_space = function_space(grid,\"DP\",0)\n",
      "piecewise_lin_space = function_space(grid,\"P\",1)"
     ],
     "language": "python",
     "metadata": {},
     "outputs": [],
     "prompt_number": 5
    },
    {
     "cell_type": "code",
     "collapsed": false,
     "input": [
      "piecewise_lin_space.codomain_dimension"
     ],
     "language": "python",
     "metadata": {},
     "outputs": [
      {
       "metadata": {},
       "output_type": "pyout",
       "prompt_number": 6,
       "text": [
        "1"
       ]
      }
     ],
     "prompt_number": 6
    },
    {
     "cell_type": "code",
     "collapsed": false,
     "input": [
      "id = identity_operator(piecewise_lin_space, piecewise_lin_space, piecewise_const_space)\n",
      "dlp = double_layer(piecewise_lin_space, piecewise_lin_space, piecewise_const_space)\n",
      "slp = single_layer(piecewise_const_space, piecewise_lin_space, piecewise_const_space)"
     ],
     "language": "python",
     "metadata": {},
     "outputs": [],
     "prompt_number": 7
    },
    {
     "cell_type": "code",
     "collapsed": false,
     "input": [
      "grid_fun = GridFunction(piecewise_lin_space, dual_space=piecewise_const_space, fun=dirichlet_data)\n",
      "exact_sol = GridFunction(piecewise_const_space, dual_space=piecewise_const_space, fun=neumann_data)"
     ],
     "language": "python",
     "metadata": {},
     "outputs": [],
     "prompt_number": 8
    },
    {
     "cell_type": "code",
     "collapsed": false,
     "input": [
      "rhs = (-.5*id+dlp)*grid_fun"
     ],
     "language": "python",
     "metadata": {},
     "outputs": [],
     "prompt_number": 9
    },
    {
     "cell_type": "code",
     "collapsed": false,
     "input": [
      "from bempp.linalg.iterative_solvers import cg\n",
      "rel_error=[]\n",
      "sol_l2_norm=exact_sol.l2_norm\n",
      "sol,info = cg(slp,rhs,tol=1E-3,callback=lambda e: rel_error.append((GridFunction(piecewise_const_space,\n",
      "                                                                                 dual_space=piecewise_lin_space,\n",
      "                                                                                 coefficients=e.ravel())-\n",
      "                                                                    exact_sol).l2_norm/sol_l2_norm))"
     ],
     "language": "python",
     "metadata": {},
     "outputs": [],
     "prompt_number": 11
    },
    {
     "cell_type": "code",
     "collapsed": false,
     "input": [
      "%matplotlib inline\n",
      "import matplotlib\n",
      "from matplotlib import pyplot as plt\n",
      "matplotlib.rcParams['savefig.dpi'] = 2 * matplotlib.rcParams['savefig.dpi']\n",
      "plt.semilogy(rel_error,'r--')\n",
      "plt.title(\"L2 Convergence of CG to solution\")"
     ],
     "language": "python",
     "metadata": {},
     "outputs": [
      {
       "metadata": {},
       "output_type": "pyout",
       "prompt_number": 12,
       "text": [
        "<matplotlib.text.Text at 0x10e5f9a58>"
       ]
      },
      {
       "metadata": {},
       "output_type": "display_data",
       "png": "[encoded data removed]",
       "text": [
        "<matplotlib.figure.Figure at 0x10d2492e8>"
       ]
      }
     ],
     "prompt_number": 12
    },
    {
     "cell_type": "code",
     "collapsed": false,
     "input": [
      "error_fun=sol-exact_sol\n",
      "print(\"The solution error is: {0} \".format(error_fun.l2_norm/sol.l2_norm))"
     ],
     "language": "python",
     "metadata": {},
     "outputs": [
      {
       "output_type": "stream",
       "stream": "stdout",
       "text": [
        "The solution error is: 0.03505366510833577 \n"
       ]
      }
     ],
     "prompt_number": 13
    },
    {
     "cell_type": "code",
     "collapsed": false,
     "input": [
      "export(sol,'solution.msh',data_label='solution')"
     ],
     "language": "python",
     "metadata": {},
     "outputs": [],
     "prompt_number": 14
    },
    {
     "cell_type": "code",
     "collapsed": false,
     "input": [
      "dlpw = dlp.weak_form()\n",
      "dlpw.shape"
     ],
     "language": "python",
     "metadata": {},
     "outputs": []
    },
    {
     "cell_type": "code",
     "collapsed": false,
     "input": [
      "dlpw[2000,1000]"
     ],
     "language": "python",
     "metadata": {},
     "outputs": []
    },
    {
     "cell_type": "code",
     "collapsed": false,
     "input": [
      "a = dlpw[:]"
     ],
     "language": "python",
     "metadata": {},
     "outputs": []
    },
    {
     "cell_type": "code",
     "collapsed": false,
     "input": [
      "a.shape"
     ],
     "language": "python",
     "metadata": {},
     "outputs": []
    },
    {
     "cell_type": "code",
     "collapsed": false,
     "input": [
      "from bempp import global_parameters\n",
      "parameters = global_parameters()"
     ],
     "language": "python",
     "metadata": {},
     "outputs": [],
     "prompt_number": 16
    },
    {
     "cell_type": "code",
     "collapsed": false,
     "input": [
      "print(parameters)"
     ],
     "language": "python",
     "metadata": {},
     "outputs": [
      {
       "output_type": "stream",
       "stream": "stdout",
       "text": [
        "maxThreadCount = -1   [unused]\n",
        "boundaryOperatorAssemblyType = dense   [unused]\n",
        "potentialOperatorAssemblyType = dense   [unused]\n",
        "verbosityLevel = 0   [unused]\n",
        "enableSingularIntegralCaching = 1   [unused]\n",
        "enableBlasInQuadrature = auto   [unused]\n",
        "QuadratureOrders -> \n",
        " quadratureOrdersAreRelative = 1   [unused]\n",
        " doubleSingular = 0   [unused]\n",
        " near -> \n",
        "  maxRelDist = 2   [unused]\n",
        "  singleOrder = 3   [unused]\n",
        "  doubleOrder = 3   [unused]\n",
        " medium -> \n",
        "  maxRelDist = 4   [unused]\n",
        "  singleOrder = 2   [unused]\n",
        "  doubleOrder = 2   [unused]\n",
        " far -> \n",
        "  singleOrder = 2   [unused]\n",
        "  doubleOrder = 2   [unused]\n",
        "HMat -> \n",
        " HMatAssemblyMode = GlobalAssembly   [unused]\n",
        " minBlockSize = 50   [unused]\n",
        " maxBlockSize = 2048   [unused]\n",
        " eta = 1.2   [unused]\n",
        "\n"
       ]
      }
     ],
     "prompt_number": 17
    },
    {
     "cell_type": "code",
     "collapsed": false,
     "input": [
      "parameters['QuadratureOrders']['doubleSingular']=2"
     ],
     "language": "python",
     "metadata": {},
     "outputs": [],
     "prompt_number": 19
    },
    {
     "cell_type": "raw",
     "metadata": {},
     "source": []
    },
    {
     "cell_type": "code",
     "collapsed": false,
     "input": [
      "print(parameters)"
     ],
     "language": "python",
     "metadata": {},
     "outputs": [
      {
       "output_type": "stream",
       "stream": "stdout",
       "text": [
        "maxThreadCount = -1   [unused]\n",
        "boundaryOperatorAssemblyType = dense   [unused]\n",
        "potentialOperatorAssemblyType = dense   [unused]\n",
        "verbosityLevel = 0   [unused]\n",
        "enableSingularIntegralCaching = 1   [unused]\n",
        "enableBlasInQuadrature = auto   [unused]\n",
        "QuadratureOrders -> \n",
        " quadratureOrdersAreRelative = 1   [unused]\n",
        " doubleSingular = 2   [unused]\n",
        " near -> \n",
        "  maxRelDist = 2   [unused]\n",
        "  singleOrder = 3   [unused]\n",
        "  doubleOrder = 3   [unused]\n",
        " medium -> \n",
        "  maxRelDist = 4   [unused]\n",
        "  singleOrder = 2   [unused]\n",
        "  doubleOrder = 2   [unused]\n",
        " far -> \n",
        "  singleOrder = 2   [unused]\n",
        "  doubleOrder = 2   [unused]\n",
        "HMat -> \n",
        " HMatAssemblyMode = GlobalAssembly   [unused]\n",
        " minBlockSize = 50   [unused]\n",
        " maxBlockSize = 2048   [unused]\n",
        " eta = 1.2   [unused]\n",
        "\n"
       ]
      }
     ],
     "prompt_number": 20
    },
    {
     "cell_type": "code",
     "collapsed": false,
     "input": [
      "idw = id.weak_form()"
     ],
     "language": "python",
     "metadata": {},
     "outputs": [],
     "prompt_number": 21
    },
    {
     "cell_type": "code",
     "collapsed": false,
     "input": [
      "print(idw)"
     ],
     "language": "python",
     "metadata": {},
     "outputs": [
      {
       "output_type": "stream",
       "stream": "stdout",
       "text": [
        "<2048x1026 SparseDiscreteBoundaryOperator with dtype=float64>\n"
       ]
      }
     ],
     "prompt_number": 22
    },
    {
     "cell_type": "code",
     "collapsed": false,
     "input": [
      "sparse_op = idw.sparse_operator"
     ],
     "language": "python",
     "metadata": {},
     "outputs": [],
     "prompt_number": 23
    },
    {
     "cell_type": "code",
     "collapsed": false,
     "input": [
      "slpw = slp.weak_form()"
     ],
     "language": "python",
     "metadata": {},
     "outputs": [],
     "prompt_number": 25
    },
    {
     "cell_type": "code",
     "collapsed": false,
     "input": [
      "view = slpw.numpy_view"
     ],
     "language": "python",
     "metadata": {},
     "outputs": [],
     "prompt_number": 26
    },
    {
     "cell_type": "code",
     "collapsed": false,
     "input": [
      "view[0,0]"
     ],
     "language": "python",
     "metadata": {},
     "outputs": [
      {
       "metadata": {},
       "output_type": "pyout",
       "prompt_number": 27,
       "text": [
        "7.5528934994985731e-05"
       ]
      }
     ],
     "prompt_number": 27
    },
    {
     "cell_type": "code",
     "collapsed": false,
     "input": [
      "view[:,0]"
     ],
     "language": "python",
     "metadata": {},
     "outputs": [
      {
       "metadata": {},
       "output_type": "pyout",
       "prompt_number": 28,
       "text": [
        "array([  7.55289350e-05,   1.99377825e-05,   1.99377825e-05, ...,\n",
        "         2.12891909e-06,   2.20606935e-06,   2.17885022e-06])"
       ]
      }
     ],
     "prompt_number": 28
    },
    {
     "cell_type": "code",
     "collapsed": false,
     "input": [
      "mat = slpw.as_matrix()"
     ],
     "language": "python",
     "metadata": {},
     "outputs": [],
     "prompt_number": 29
    },
    {
     "cell_type": "code",
     "collapsed": false,
     "input": [],
     "language": "python",
     "metadata": {},
     "outputs": []
    }
   ],
   "metadata": {}
  }
 ]
}